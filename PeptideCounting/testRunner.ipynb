{
 "cells": [
  {
   "cell_type": "code",
   "execution_count": 9,
   "metadata": {},
   "outputs": [],
   "source": [
    "#Import functions\n",
    "import aaCounter as a\n",
    "import theoreticalLabellingFunctions as t"
   ]
  },
  {
   "cell_type": "code",
   "execution_count": 10,
   "metadata": {},
   "outputs": [
    {
     "name": "stdout",
     "output_type": "stream",
     "text": [
      "{'K': 2122374}\n"
     ]
    }
   ],
   "source": [
    "#Find lysines in full proteome\n",
    "#Full proteome (would need to replace filepath in quotes to use a different file.)\n",
    "lysines = a.aminoacidDetect(\"NbD_Proteome.fasta\", [\"K\"])\n",
    "print(lysines)\n",
    "#Returns: 2122374"
   ]
  },
  {
   "cell_type": "code",
   "execution_count": 11,
   "metadata": {},
   "outputs": [
    {
     "name": "stdout",
     "output_type": "stream",
     "text": [
      "{'K': 124, 'R': 96}\n"
     ]
    }
   ],
   "source": [
    "#Example mock file\n",
    "exampleaas = a.aminoacidDetect(\"Mock_NbD_Proteome.fasta\", ['K', 'R'])\n",
    "print(exampleaas)\n",
    "#In example, we have 124 lysines"
   ]
  },
  {
   "attachments": {},
   "cell_type": "markdown",
   "metadata": {},
   "source": [
    "Potential peptides\n",
    "\n",
    "example seq\n",
    "MSALHTSGTWELVPLPSGKTTVGGRWVYAVKVGQDGKVDRLKARLVAKGYTQIFGLDYSD\n",
    "\n",
    "expected peptides:\n",
    "MSALHTSGTWELVPLPSGKTTVGGRWVYAVKVGQDGKVDRLKARLVAKGYTQIFGLDYSD  \n",
    "MSALHTSGTWELVPLPSGK  \n",
    "MSALHTSGTWELVPLPSGKTTVGGR  \n",
    "MSALHTSGTWELVPLPSGKTTVGGRWVYAVK  \n",
    "TTVGGR  \n",
    "TTVGGRWVYAVK  \n",
    "TTVGGRWVYAVKVGQDGK  \n",
    "WVYAVK  \n",
    "WVYAVKVGQDGK  \n",
    "WVYAVKVGQDGKVDRLKAR  \n",
    "VGQDGK  \n",
    "VGQDGKVDR  \n",
    "VGQDGKVDRLK  \n",
    "VDR  \n",
    "VDRLK  \n",
    "VDRLKAR  \n",
    "LK  \n",
    "LKAR  \n",
    "LKARLVAK  \n",
    "AR  \n",
    "ARLVAK  \n",
    "ARLVAKGYTQIFGLDYSD  \n",
    "LVAK  \n",
    "LVAKGYTQIFGLDYSD  \n",
    "GYTQIFGLDYSD  "
   ]
  },
  {
   "cell_type": "code",
   "execution_count": 3,
   "metadata": {},
   "outputs": [],
   "source": [
    "exampleSequence = 'MSALHTSGTWELVPLPSGKTTVGGRWVYAVKVGQDGKVDRLKARLVAKGYTQIFGLDYSD'"
   ]
  },
  {
   "cell_type": "code",
   "execution_count": 9,
   "metadata": {},
   "outputs": [],
   "source": [
    "# within the secretome (subset of proteome) calculate all potential peptides\n",
    "## Didn't use this function in the end ##\n",
    "def cutSiteDistances(proteinSequence, cutSites = ['R', 'K']):\n",
    "    \"\"\"\n",
    "    Determines relative distances of cut sites in a protein sequence.\n",
    "\n",
    "    params:\n",
    "        proteinSequence: the protein sequence of interest (str)\n",
    "        cutSites: list of amino acids at which the enzyme cuts (list of str)\n",
    "\n",
    "    returns:\n",
    "        cutSiteDistances: list of distances of cut sites relative to the previous cut site.\n",
    "        \n",
    "     \"\"\"\n",
    "    #This will be a list of all cut sites in the sequence, with start 0. start sites of peptides will iterate through this list.\n",
    "    cutSiteDistances = [0]\n",
    "\n",
    "    #Iterate through the sequence and collect all cut site positions\n",
    "    cutIterator = 0\n",
    "    for index, aa in enumerate(proteinSequence):\n",
    "        if aa in cutSites:\n",
    "            distanceFromPrevious = index - sum(cutSiteDistances)\n",
    "            cutSiteDistances.append(distanceFromPrevious)\n",
    "            cutIterator+=1\n",
    "\n",
    "    return cutSiteDistances"
   ]
  },
  {
   "cell_type": "code",
   "execution_count": 5,
   "metadata": {},
   "outputs": [],
   "source": [
    "# within the secretome (subset of proteome) calculate all potential peptides\n",
    "def cutSiteSearchRegions(proteinSequence, cutsites = ['R', 'K']):\n",
    "    \"\"\"\n",
    "    Determines relative distances of cut sites in a protein sequence.\n",
    "\n",
    "    params:\n",
    "        proteinSequence: the protein sequence of interest (str)\n",
    "        cutSites: list of amino acids at which the enzyme cuts (list of str)\n",
    "\n",
    "    returns:\n",
    "        cutSiteDistances: list of distances of cut sites relative to the previous cut site.\n",
    "        \n",
    "     \"\"\"\n",
    "    #This will be a list of all cut sites in the sequence, with start 0. start sites of peptides will iterate through this list.\n",
    "    cutSitePositions = []\n",
    "\n",
    "    #Iterate through the sequence and collect all cut site positions\n",
    "    for index, aa in enumerate(proteinSequence):\n",
    "        if aa in cutsites:\n",
    "            cutSitePositions.append(index)\n",
    "        \n",
    "    searchRegions = [proteinSequence] #starting region will be the whole protein (starts at 0)\n",
    "    for cutSite in cutSitePositions:\n",
    "            searchRegions.append(proteinSequence[cutSite+1:]) #note that this is +1 as the cut peptide itself should be left of the cut site\n",
    "            \n",
    "    return searchRegions"
   ]
  },
  {
   "cell_type": "code",
   "execution_count": 12,
   "metadata": {},
   "outputs": [
    {
     "name": "stdout",
     "output_type": "stream",
     "text": [
      "['MSALHTSGTWELVPLPSGKTTVGGRWVYAVKVGQDGKVDRLKARLVAKGYTQIFGLDYSD', 'TTVGGRWVYAVKVGQDGKVDRLKARLVAKGYTQIFGLDYSD', 'WVYAVKVGQDGKVDRLKARLVAKGYTQIFGLDYSD', 'VGQDGKVDRLKARLVAKGYTQIFGLDYSD', 'VDRLKARLVAKGYTQIFGLDYSD', 'LKARLVAKGYTQIFGLDYSD', 'ARLVAKGYTQIFGLDYSD', 'LVAKGYTQIFGLDYSD', 'GYTQIFGLDYSD'] 9\n",
      "['MSALHTSGTWELVPLPSGKTTVGGRWVYAVKVGQDGKVDRLKARLVAKGYTQIFGLDYSD', 'WVYAVKVGQDGKVDRLKARLVAKGYTQIFGLDYSD', 'LKARLVAKGYTQIFGLDYSD', 'LVAKGYTQIFGLDYSD'] 4\n"
     ]
    }
   ],
   "source": [
    "searchRegions =cutSiteSearchRegions(exampleSequence)\n",
    "print(searchRegions, len(searchRegions))\n",
    "searchRegionsR = cutSiteSearchRegions(exampleSequence, cutsites = ['R'])\n",
    "print(searchRegionsR, len(searchRegionsR))\n",
    "#Search regions are as expected, and are reduced when all lysines labelled (from 9 to 4)"
   ]
  },
  {
   "cell_type": "code",
   "execution_count": 14,
   "metadata": {},
   "outputs": [],
   "source": [
    "# within the secretome (subset of proteome) calculate all potential peptides\n",
    "\n",
    "def potentialPeptides(proteinSequence, cutSites = ['R', 'K'], missedcleavagemax = 2):\n",
    "    \"\"\"\n",
    "    Calculates all potential peptides for a protein sequence given the amino acids at which the enzyme cuts.\n",
    "\n",
    "    params:\n",
    "        proteinSequence: string of the protein sequenc of interest.\n",
    "        cutSites: list of strings of amino acids at which the enzyme cuts. By default, this is set for trypsin.\n",
    "    \n",
    "    output:\n",
    "        allPeptidesList: all potential peptides for the given inputs.\n",
    "    \"\"\"\n",
    "    #Start list for the output - all potential peptides for this protein\n",
    "    allPeptidesList = []\n",
    "\n",
    "    #Counter for missed cleavages (allows for two)\n",
    "\n",
    "    searchRegions = cutSiteSearchRegions(proteinSequence, cutsites = cutSites)\n",
    "\n",
    "    #Iterate through the string and add potential peptides according to allowed missed cleavages.\n",
    "    for searchRegion in searchRegions:\n",
    "        peptideCount = 0\n",
    "        for index, aa in enumerate(searchRegion):\n",
    "        #If cut site is encountered, save sequence\n",
    "            if aa in cutSites:\n",
    "                stopaa = index \n",
    "                allPeptidesList.append(searchRegion[:stopaa+1]) #again to keep the cut protein on the left side\n",
    "                peptideCount +=1\n",
    "                #Once we've accounted for two missed cleavages, stop iterating and move to the next start site\n",
    "                if peptideCount == missedcleavagemax+1: #missed cleavage allowance +1 = expected number of peptides output\n",
    "                    break\n",
    "            elif index == len(searchRegion)-1:\n",
    "                allPeptidesList.append(searchRegion[:index+1])\n",
    "                break                \n",
    "        \n",
    "    #Remove peptides which are out of range from the full list\n",
    "    #allPeptidesList = inRangePeptideCalc(allPeptidesList, minSize = 5, maxSize = 10) hashed out for now as the min/max is nonsensical\n",
    "\n",
    "    allPeptidesLength = len(allPeptidesList)\n",
    "    \n",
    "    return allPeptidesLength\n"
   ]
  },
  {
   "cell_type": "code",
   "execution_count": 15,
   "metadata": {},
   "outputs": [
    {
     "name": "stdout",
     "output_type": "stream",
     "text": [
      "9\n",
      "['MSALHTSGTWELVPLPSGK', 'MSALHTSGTWELVPLPSGKTTVGGR', 'MSALHTSGTWELVPLPSGKTTVGGRWVYAVK', 'TTVGGR', 'TTVGGRWVYAVK', 'TTVGGRWVYAVKVGQDGK', 'WVYAVK', 'WVYAVKVGQDGK', 'WVYAVKVGQDGKVDR', 'VGQDGK', 'VGQDGKVDR', 'VGQDGKVDRLK', 'VDR', 'VDRLK', 'VDRLKAR', 'LK', 'LKAR', 'LKARLVAK', 'AR', 'ARLVAK', 'ARLVAKGYTQIFGLDYSD', 'LVAK', 'LVAKGYTQIFGLDYSD', 'GYTQIFGLDYSD']\n",
      "24\n",
      "4\n",
      "['MSALHTSGTWELVPLPSGKTTVGGR', 'MSALHTSGTWELVPLPSGKTTVGGRWVYAVKVGQDGKVDR', 'MSALHTSGTWELVPLPSGKTTVGGRWVYAVKVGQDGKVDRLKAR', 'WVYAVKVGQDGKVDR', 'WVYAVKVGQDGKVDRLKAR', 'WVYAVKVGQDGKVDRLKARLVAKGYTQIFGLDYSD', 'LKAR', 'LKARLVAKGYTQIFGLDYSD', 'LVAKGYTQIFGLDYSD']\n",
      "9\n"
     ]
    }
   ],
   "source": [
    "#Unlabelled case\n",
    "allPeptidesList = potentialPeptides(exampleSequence)\n",
    "print(allPeptidesList)\n",
    "#This works, returns all expected peptides as listed above\n",
    "\n",
    "#Labelled case\n",
    "allPeptidesListR = potentialPeptides(exampleSequence, cutSites = [\"R\"])\n",
    "print(allPeptidesListR)\n",
    "#This also prints as expected, this case has longer and fewer peptides\n"
   ]
  },
  {
   "cell_type": "code",
   "execution_count": 160,
   "metadata": {},
   "outputs": [],
   "source": [
    "def inRangePeptideCalc(peptideList, minSize = 5, maxSize = 10):\n",
    "    \"\"\"\n",
    "    Determine the proportion of peptides that are undetectable given a size range.count\n",
    "\n",
    "    params:\n",
    "        peptideList: peptides to be considered\n",
    "        minSize: minimum detectable peptide size.\n",
    "        maxSize: maximum detectable peptide size.\n",
    "\n",
    "    output:\n",
    "        detectableRatio: ratio of peptides that are in range/total\n",
    "        inRangePeptides: truncated peptideList for only proteins within the range\n",
    "    \"\"\"\n",
    "    #note that if the min/max needs to be in kDa, need a kDa calculator function here\n",
    "\n",
    "    inRangePeptides = []\n",
    "\n",
    "    for peptide in peptideList:\n",
    "        if len(peptide) > minSize and len(peptide) < maxSize:\n",
    "            inRangePeptides.append(peptide)\n",
    "\n",
    "    detectableRatio = len(inRangePeptides)/len(peptideList)\n",
    "\n",
    "    return detectableRatio, inRangePeptides\n"
   ]
  },
  {
   "cell_type": "code",
   "execution_count": 161,
   "metadata": {},
   "outputs": [
    {
     "name": "stdout",
     "output_type": "stream",
     "text": [
      "0.2916666666666667 ['TTVGGR', 'WVYAVK', 'VGQDGK', 'VGQDGKVDR', 'VDRLKAR', 'LKARLVAK', 'ARLVAK']\n"
     ]
    }
   ],
   "source": [
    "detectableRatio, inRangePeptides = inRangePeptideCalc(allPeptidesList, minSize = 5, maxSize = 10)\n",
    "print(detectableRatio, inRangePeptides)\n",
    "#works"
   ]
  },
  {
   "cell_type": "code",
   "execution_count": 164,
   "metadata": {},
   "outputs": [],
   "source": [
    "def returnAllPeptideCounts(proteinsfasta):\n",
    "    \"\"\"\n",
    "    \"\"\"\n",
    "    from Bio import SeqIO\n",
    "\n",
    "    totalUnlabelled = 0\n",
    "    totalLabelled = 0\n",
    "\n",
    "    #Iterate through sequences in the fasta file \n",
    "    for fasta in SeqIO.parse(proteinsfasta, \"fasta\"):\n",
    "        sequence = fasta.seq\n",
    "\n",
    "        totalUnlabelled += potentialPeptides(sequence, cutSites = ['R', 'K'])\n",
    "        totalLabelled += potentialPeptides(sequence, cutSites = ['R'])\n",
    "        \n",
    "    return totalUnlabelled, totalLabelled\n"
   ]
  },
  {
   "cell_type": "code",
   "execution_count": 166,
   "metadata": {},
   "outputs": [
    {
     "name": "stdout",
     "output_type": "stream",
     "text": [
      "657\n",
      "288\n"
     ]
    }
   ],
   "source": [
    "totalUnlabelled, totalLabelled = returnAllPeptideCounts(\"Mock_NbD_Proteome.fasta\")\n",
    "print(totalUnlabelled)\n",
    "print(totalLabelled)\n"
   ]
  },
  {
   "cell_type": "code",
   "execution_count": null,
   "metadata": {},
   "outputs": [],
   "source": []
  }
 ],
 "metadata": {
  "kernelspec": {
   "display_name": "Python 3",
   "language": "python",
   "name": "python3"
  },
  "language_info": {
   "codemirror_mode": {
    "name": "ipython",
    "version": 3
   },
   "file_extension": ".py",
   "mimetype": "text/x-python",
   "name": "python",
   "nbconvert_exporter": "python",
   "pygments_lexer": "ipython3",
   "version": "3.11.1"
  },
  "orig_nbformat": 4,
  "vscode": {
   "interpreter": {
    "hash": "aee8b7b246df8f9039afb4144a1f6fd8d2ca17a180786b69acc140d282b71a49"
   }
  }
 },
 "nbformat": 4,
 "nbformat_minor": 2
}
